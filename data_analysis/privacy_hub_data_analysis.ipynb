{
 "cells": [
  {
   "cell_type": "markdown",
   "metadata": {},
   "source": [
    "## Privacy HUB data Analysis"
   ]
  },
  {
   "cell_type": "markdown",
   "metadata": {},
   "source": [
    "This is toy data which has been created within Privacy Hub and does not reflect any real people. The dataset includes a number of variables relating to physical attributes, hobbies and a ‘token’ which is used to distinguish one patient from another. A token is a value which is created from any one or more input values. It looks nonsensical (as it is a ‘hash’) and cannot be re-engineered to the original value."
   ]
  },
  {
   "cell_type": "markdown",
   "metadata": {},
   "source": [
    "### INITIAL OBSERVATIONS AND INFERENCE FROM DATASET\n",
    "- The dataset includes columns for various attributes such as token, name,surname, sex, age, height, weight.kg, eyecolour, test.group, hobbies, and marstat (marital status).\n",
    "- The dataset contains a mix of numerical (age, height, weight.kg, test.group) and categorical (sex, eyecolour, hobbies, marstat) data.\n",
    "- The variable 'test.group' is not clearly defined in the dataset. This lack of clarity might hinder precise analysis.\n",
    "- Misallignment in the data because of missing values.\n",
    "- The absence of standardization in the 'sex' and 'marstat' column."
   ]
  },
  {
   "cell_type": "code",
   "execution_count": 1,
   "metadata": {},
   "outputs": [],
   "source": [
    "import numpy as np\n",
    "import pandas as pd\n",
    "import matplotlib.pyplot as plt"
   ]
  },
  {
   "cell_type": "code",
   "execution_count": 3,
   "metadata": {},
   "outputs": [],
   "source": [
    "data = 'DA_TaskSheet_Hobbies (1) (1).txt'\n",
    "dataset = pd.read_csv(data)"
   ]
  },
  {
   "cell_type": "code",
   "execution_count": 4,
   "metadata": {},
   "outputs": [],
   "source": [
    "colomn_names=['token','name','surname','sex','age','height','weight.kg', 'eyecolour', 'test.group', 'hobbies', 'marstat']"
   ]
  },
  {
   "cell_type": "code",
   "execution_count": 6,
   "metadata": {},
   "outputs": [
    {
     "name": "stderr",
     "output_type": "stream",
     "text": [
      "C:\\Users\\AhmedShafique\\AppData\\Local\\Temp\\ipykernel_16420\\640884193.py:2: FutureWarning: The 'delim_whitespace' keyword in pd.read_csv is deprecated and will be removed in a future version. Use ``sep='\\s+'`` instead\n",
      "  df = pd.read_csv(data, delim_whitespace=True, nrows=1)\n"
     ]
    }
   ],
   "source": [
    "# Read the entire file into a DataFrame\n",
    "df = pd.read_csv(data, delim_whitespace=True, nrows=1)\n",
    "# Extract column names from the first row\n",
    "column_names = df.columns.tolist()"
   ]
  },
  {
   "cell_type": "code",
   "execution_count": 8,
   "metadata": {},
   "outputs": [
    {
     "data": {
      "text/html": [
       "<div>\n",
       "<style scoped>\n",
       "    .dataframe tbody tr th:only-of-type {\n",
       "        vertical-align: middle;\n",
       "    }\n",
       "\n",
       "    .dataframe tbody tr th {\n",
       "        vertical-align: top;\n",
       "    }\n",
       "\n",
       "    .dataframe thead th {\n",
       "        text-align: right;\n",
       "    }\n",
       "</style>\n",
       "<table border=\"1\" class=\"dataframe\">\n",
       "  <thead>\n",
       "    <tr style=\"text-align: right;\">\n",
       "      <th></th>\n",
       "      <th>age</th>\n",
       "      <th>height</th>\n",
       "      <th>weight.kg</th>\n",
       "      <th>test.group</th>\n",
       "    </tr>\n",
       "  </thead>\n",
       "  <tbody>\n",
       "    <tr>\n",
       "      <th>count</th>\n",
       "      <td>1.0</td>\n",
       "      <td>1.00</td>\n",
       "      <td>1.0</td>\n",
       "      <td>1.0</td>\n",
       "    </tr>\n",
       "    <tr>\n",
       "      <th>mean</th>\n",
       "      <td>31.0</td>\n",
       "      <td>1.81</td>\n",
       "      <td>96.6</td>\n",
       "      <td>1.0</td>\n",
       "    </tr>\n",
       "    <tr>\n",
       "      <th>std</th>\n",
       "      <td>NaN</td>\n",
       "      <td>NaN</td>\n",
       "      <td>NaN</td>\n",
       "      <td>NaN</td>\n",
       "    </tr>\n",
       "    <tr>\n",
       "      <th>min</th>\n",
       "      <td>31.0</td>\n",
       "      <td>1.81</td>\n",
       "      <td>96.6</td>\n",
       "      <td>1.0</td>\n",
       "    </tr>\n",
       "    <tr>\n",
       "      <th>25%</th>\n",
       "      <td>31.0</td>\n",
       "      <td>1.81</td>\n",
       "      <td>96.6</td>\n",
       "      <td>1.0</td>\n",
       "    </tr>\n",
       "    <tr>\n",
       "      <th>50%</th>\n",
       "      <td>31.0</td>\n",
       "      <td>1.81</td>\n",
       "      <td>96.6</td>\n",
       "      <td>1.0</td>\n",
       "    </tr>\n",
       "    <tr>\n",
       "      <th>75%</th>\n",
       "      <td>31.0</td>\n",
       "      <td>1.81</td>\n",
       "      <td>96.6</td>\n",
       "      <td>1.0</td>\n",
       "    </tr>\n",
       "    <tr>\n",
       "      <th>max</th>\n",
       "      <td>31.0</td>\n",
       "      <td>1.81</td>\n",
       "      <td>96.6</td>\n",
       "      <td>1.0</td>\n",
       "    </tr>\n",
       "  </tbody>\n",
       "</table>\n",
       "</div>"
      ],
      "text/plain": [
       "        age  height  weight.kg  test.group\n",
       "count   1.0    1.00        1.0         1.0\n",
       "mean   31.0    1.81       96.6         1.0\n",
       "std     NaN     NaN        NaN         NaN\n",
       "min    31.0    1.81       96.6         1.0\n",
       "25%    31.0    1.81       96.6         1.0\n",
       "50%    31.0    1.81       96.6         1.0\n",
       "75%    31.0    1.81       96.6         1.0\n",
       "max    31.0    1.81       96.6         1.0"
      ]
     },
     "execution_count": 8,
     "metadata": {},
     "output_type": "execute_result"
    }
   ],
   "source": [
    "df.describe()"
   ]
  },
  {
   "cell_type": "code",
   "execution_count": 9,
   "metadata": {},
   "outputs": [
    {
     "name": "stdout",
     "output_type": "stream",
     "text": [
      "<class 'pandas.core.frame.DataFrame'>\n",
      "RangeIndex: 1 entries, 0 to 0\n",
      "Data columns (total 11 columns):\n",
      " #   Column      Non-Null Count  Dtype  \n",
      "---  ------      --------------  -----  \n",
      " 0   token       1 non-null      object \n",
      " 1   name        1 non-null      object \n",
      " 2   surname     1 non-null      object \n",
      " 3   sex         1 non-null      object \n",
      " 4   age         1 non-null      int64  \n",
      " 5   height      1 non-null      float64\n",
      " 6   weight.kg   1 non-null      float64\n",
      " 7   eyecolour   1 non-null      object \n",
      " 8   test.group  1 non-null      int64  \n",
      " 9   hobbies     1 non-null      object \n",
      " 10  marstat     1 non-null      object \n",
      "dtypes: float64(2), int64(2), object(7)\n",
      "memory usage: 216.0+ bytes\n"
     ]
    }
   ],
   "source": [
    "df.info()"
   ]
  }
 ],
 "metadata": {
  "kernelspec": {
   "display_name": "Python 3",
   "language": "python",
   "name": "python3"
  },
  "language_info": {
   "codemirror_mode": {
    "name": "ipython",
    "version": 3
   },
   "file_extension": ".py",
   "mimetype": "text/x-python",
   "name": "python",
   "nbconvert_exporter": "python",
   "pygments_lexer": "ipython3",
   "version": "3.10.6"
  }
 },
 "nbformat": 4,
 "nbformat_minor": 2
}
