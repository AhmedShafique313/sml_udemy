{
 "cells": [
  {
   "cell_type": "code",
   "execution_count": 2,
   "metadata": {},
   "outputs": [],
   "source": [
    "import numpy as np\n",
    "import pandas as pd\n",
    "import matplotlib.pyplot as plt"
   ]
  },
  {
   "cell_type": "code",
   "execution_count": 4,
   "metadata": {},
   "outputs": [
    {
     "name": "stdout",
     "output_type": "stream",
     "text": [
      "              ID  Experience_Years        Age        Salary\n",
      "count  35.000000          35.00000  35.000000  3.500000e+01\n",
      "mean   18.000000           9.20000  35.485714  2.059147e+06\n",
      "std    10.246951           7.55295  14.643552  3.170124e+06\n",
      "min     1.000000           1.00000  17.000000  3.000000e+03\n",
      "25%     9.500000           2.50000  22.500000  2.250000e+04\n",
      "50%    18.000000           6.00000  29.000000  2.500000e+05\n",
      "75%    26.500000          15.00000  53.500000  3.270000e+06\n",
      "max    35.000000          27.00000  62.000000  1.000000e+07\n"
     ]
    }
   ],
   "source": [
    "df = pd.read_csv('employee_salary.csv')\n",
    "print(df.describe())"
   ]
  },
  {
   "cell_type": "code",
   "execution_count": 5,
   "metadata": {},
   "outputs": [
    {
     "name": "stdout",
     "output_type": "stream",
     "text": [
      "<class 'pandas.core.frame.DataFrame'>\n",
      "RangeIndex: 35 entries, 0 to 34\n",
      "Data columns (total 5 columns):\n",
      " #   Column            Non-Null Count  Dtype \n",
      "---  ------            --------------  ----- \n",
      " 0   ID                35 non-null     int64 \n",
      " 1   Experience_Years  35 non-null     int64 \n",
      " 2   Age               35 non-null     int64 \n",
      " 3   Gender            35 non-null     object\n",
      " 4   Salary            35 non-null     int64 \n",
      "dtypes: int64(4), object(1)\n",
      "memory usage: 1.5+ KB\n",
      "None\n"
     ]
    }
   ],
   "source": [
    "print(df.info())"
   ]
  },
  {
   "cell_type": "code",
   "execution_count": 9,
   "metadata": {},
   "outputs": [],
   "source": [
    "x = df.iloc[:,1]\n",
    "y = df.iloc[:,4]"
   ]
  },
  {
   "cell_type": "code",
   "execution_count": 10,
   "metadata": {},
   "outputs": [
    {
     "name": "stdout",
     "output_type": "stream",
     "text": [
      "0      5\n",
      "1      1\n",
      "2      3\n",
      "3      2\n",
      "4      1\n",
      "5     25\n",
      "6     19\n",
      "7      2\n",
      "8     10\n",
      "9     15\n",
      "10     4\n",
      "11     6\n",
      "12    14\n",
      "13    11\n",
      "14     2\n",
      "15     4\n",
      "16    10\n",
      "17    15\n",
      "18     2\n",
      "19    10\n",
      "20    15\n",
      "21     4\n",
      "22     5\n",
      "23     1\n",
      "24     4\n",
      "25     3\n",
      "26     1\n",
      "27    27\n",
      "28    19\n",
      "29     2\n",
      "30    10\n",
      "31    15\n",
      "32    20\n",
      "33    19\n",
      "34    16\n",
      "Name: Experience_Years, dtype: int64\n"
     ]
    }
   ],
   "source": [
    "print(x)"
   ]
  },
  {
   "cell_type": "code",
   "execution_count": 11,
   "metadata": {},
   "outputs": [
    {
     "name": "stdout",
     "output_type": "stream",
     "text": [
      "0       250000\n",
      "1        50000\n",
      "2       170000\n",
      "3        25000\n",
      "4        10000\n",
      "5      5001000\n",
      "6       800000\n",
      "7         9000\n",
      "8        61500\n",
      "9       650000\n",
      "10      250000\n",
      "11     1400000\n",
      "12     6000050\n",
      "13      220100\n",
      "14        7500\n",
      "15       87000\n",
      "16      930000\n",
      "17     7900000\n",
      "18       15000\n",
      "19      330000\n",
      "20     6570000\n",
      "21       25000\n",
      "22     6845000\n",
      "23        6000\n",
      "24        8900\n",
      "25       20000\n",
      "26        3000\n",
      "27    10000000\n",
      "28     5000000\n",
      "29        6100\n",
      "30       80000\n",
      "31      900000\n",
      "32     1540000\n",
      "33     9300000\n",
      "34     7600000\n",
      "Name: Salary, dtype: int64\n"
     ]
    }
   ],
   "source": [
    "print(y)"
   ]
  }
 ],
 "metadata": {
  "kernelspec": {
   "display_name": "Python 3",
   "language": "python",
   "name": "python3"
  },
  "language_info": {
   "codemirror_mode": {
    "name": "ipython",
    "version": 3
   },
   "file_extension": ".py",
   "mimetype": "text/x-python",
   "name": "python",
   "nbconvert_exporter": "python",
   "pygments_lexer": "ipython3",
   "version": "3.10.6"
  }
 },
 "nbformat": 4,
 "nbformat_minor": 2
}
