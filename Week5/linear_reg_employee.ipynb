{
 "cells": [
  {
   "cell_type": "code",
   "execution_count": 2,
   "metadata": {},
   "outputs": [],
   "source": [
    "import numpy as np\n",
    "import pandas as pd\n",
    "import matplotlib.pyplot as plt"
   ]
  },
  {
   "cell_type": "code",
   "execution_count": 4,
   "metadata": {},
   "outputs": [
    {
     "name": "stdout",
     "output_type": "stream",
     "text": [
      "              ID  Experience_Years        Age        Salary\n",
      "count  35.000000          35.00000  35.000000  3.500000e+01\n",
      "mean   18.000000           9.20000  35.485714  2.059147e+06\n",
      "std    10.246951           7.55295  14.643552  3.170124e+06\n",
      "min     1.000000           1.00000  17.000000  3.000000e+03\n",
      "25%     9.500000           2.50000  22.500000  2.250000e+04\n",
      "50%    18.000000           6.00000  29.000000  2.500000e+05\n",
      "75%    26.500000          15.00000  53.500000  3.270000e+06\n",
      "max    35.000000          27.00000  62.000000  1.000000e+07\n"
     ]
    }
   ],
   "source": [
    "df = pd.read_csv('employee_salary.csv')\n",
    "print(df.describe())"
   ]
  },
  {
   "cell_type": "code",
   "execution_count": 5,
   "metadata": {},
   "outputs": [
    {
     "name": "stdout",
     "output_type": "stream",
     "text": [
      "<class 'pandas.core.frame.DataFrame'>\n",
      "RangeIndex: 35 entries, 0 to 34\n",
      "Data columns (total 5 columns):\n",
      " #   Column            Non-Null Count  Dtype \n",
      "---  ------            --------------  ----- \n",
      " 0   ID                35 non-null     int64 \n",
      " 1   Experience_Years  35 non-null     int64 \n",
      " 2   Age               35 non-null     int64 \n",
      " 3   Gender            35 non-null     object\n",
      " 4   Salary            35 non-null     int64 \n",
      "dtypes: int64(4), object(1)\n",
      "memory usage: 1.5+ KB\n",
      "None\n"
     ]
    }
   ],
   "source": [
    "print(df.info())"
   ]
  }
 ],
 "metadata": {
  "kernelspec": {
   "display_name": "Python 3",
   "language": "python",
   "name": "python3"
  },
  "language_info": {
   "codemirror_mode": {
    "name": "ipython",
    "version": 3
   },
   "file_extension": ".py",
   "mimetype": "text/x-python",
   "name": "python",
   "nbconvert_exporter": "python",
   "pygments_lexer": "ipython3",
   "version": "3.10.6"
  }
 },
 "nbformat": 4,
 "nbformat_minor": 2
}
