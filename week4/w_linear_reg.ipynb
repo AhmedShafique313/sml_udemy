{
 "cells": [
  {
   "cell_type": "markdown",
   "metadata": {},
   "source": [
    "## Lab Session 5\n",
    "### Lab Outcomes\n",
    "In this lab session you will learn how to:\n",
    "* Implement linear regression with w as variable\n",
    "* Real world based prediction and enhancement in linear regression\n"
   ]
  },
  {
   "cell_type": "markdown",
   "metadata": {},
   "source": [
    "Use the `Housing.csv` file as dataset and import it with `pandas`"
   ]
  },
  {
   "cell_type": "markdown",
   "metadata": {},
   "source": [
    "we are going to compute  `compute_model_w` function"
   ]
  },
  {
   "cell_type": "markdown",
   "metadata": {},
   "source": [
    "Now its time to plot the Linear Regression `Model` function with `w` as variable to check the output on real world based scanerio"
   ]
  }
 ],
 "metadata": {
  "language_info": {
   "name": "python"
  }
 },
 "nbformat": 4,
 "nbformat_minor": 2
}
